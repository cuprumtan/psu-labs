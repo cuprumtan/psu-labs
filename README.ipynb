{
 "cells": [
  {
   "cell_type": "markdown",
   "metadata": {},
   "source": [
    "# scrapy\n",
    "## Установка\n",
    "---\n",
    "\n",
    "1. Скачать репозиторий с проектом:"
   ]
  },
  {
   "cell_type": "code",
   "execution_count": null,
   "metadata": {},
   "outputs": [],
   "source": [
    "git clone https://github.com/cuprumtan/scrapy.git"
   ]
  },
  {
   "cell_type": "markdown",
   "metadata": {},
   "source": [
    "2. Перейти в папку со скриптами:"
   ]
  },
  {
   "cell_type": "code",
   "execution_count": null,
   "metadata": {},
   "outputs": [],
   "source": [
    "cd scrapy/run_bash"
   ]
  },
  {
   "cell_type": "markdown",
   "metadata": {},
   "source": [
    "3. Все необходимые пакеты для работы с утилитой будут установлены при запуске:"
   ]
  },
  {
   "cell_type": "code",
   "execution_count": null,
   "metadata": {},
   "outputs": [],
   "source": [
    "bash scrapy.sh chat"
   ]
  },
  {
   "cell_type": "markdown",
   "metadata": {},
   "source": [
    "либо"
   ]
  },
  {
   "cell_type": "code",
   "execution_count": null,
   "metadata": {},
   "outputs": [],
   "source": [
    "bash scrapy.sh run-server"
   ]
  },
  {
   "cell_type": "markdown",
   "metadata": {},
   "source": [
    "<div class=\"alert alert-info\">\n",
    "Установщик пакетов рассчитан только на работу со следующими дистрибутивами: centOS, Fedora, Manjaro, Arch, Gentoo, SuSE, Debian.\n",
    "</div>"
   ]
  },
  {
   "cell_type": "markdown",
   "metadata": {},
   "source": [
    "*Установка пакетов:*\n",
    "</kbd>![#](jupyter_src/img/scrapy_1.png)</kbd>"
   ]
  },
  {
   "cell_type": "markdown",
   "metadata": {},
   "source": [
    "## Использование\n",
    "---\n",
    "\n",
    "**scrapy** включает в себя чат-сервер и файл-сервер, которые можно использовать независимо. При этом чат-сервер производит сканирование локальной сети и ищет запущенные файл-серверы, к которым можно подключиться. *Файл-сервер расшаривает корень.*\n",
    "\n",
    "### Запуск чата\n",
    "---\n",
    "\n",
    "Для запуска чата необходимо выполнить следующую команду:"
   ]
  },
  {
   "cell_type": "code",
   "execution_count": null,
   "metadata": {},
   "outputs": [],
   "source": [
    "bash scrapy.sh chat"
   ]
  },
  {
   "cell_type": "markdown",
   "metadata": {},
   "source": [
    "Чат запустится на порту **7070**.\n",
    "\n",
    "*Внешний вид чата:*\n",
    "</kbd>![#](jupyter_src/img/scrapy_2.png)</kbd>"
   ]
  },
  {
   "cell_type": "markdown",
   "metadata": {},
   "source": [
    "### Запуск файл-сервера\n",
    "---\n",
    "\n",
    "Для запуска файл-сервера необходимо выполнить следующую команду:"
   ]
  },
  {
   "cell_type": "code",
   "execution_count": null,
   "metadata": {},
   "outputs": [],
   "source": [
    "bash scrapy.sh run-server"
   ]
  },
  {
   "cell_type": "markdown",
   "metadata": {},
   "source": [
    "Файл-сервер запустится на порту **7071**.\n",
    "\n",
    "*Внешний вид файл-сервера:*\n",
    "</kbd>![#](jupyter_src/img/scrapy_3.png)</kbd>"
   ]
  },
  {
   "cell_type": "markdown",
   "metadata": {},
   "source": [
    "### Поиск серверов\n",
    "---\n",
    "\n",
    "Одна из опций чата - поиск запущенных в локальной сети файл-серверов. Поиск активируется по нажатию ***Scan file servers***:\n",
    "</kbd>![#](jupyter_src/img/scrapy_4.png)</kbd>\n",
    "\n",
    "Полученный список представляет собой ссылки на сами файл-серверы."
   ]
  },
  {
   "cell_type": "markdown",
   "metadata": {},
   "source": [
    "### Получение статуса работы\n",
    "---\n",
    "\n",
    "**scrapy** просматривает локальные порты **7070** и **7071** и выводит их состояние:"
   ]
  },
  {
   "cell_type": "code",
   "execution_count": null,
   "metadata": {},
   "outputs": [],
   "source": [
    "bash scrapy.sh status"
   ]
  },
  {
   "cell_type": "markdown",
   "metadata": {},
   "source": [
    "</kbd>![#](jupyter_src/img/scrapy_5.png)</kbd>"
   ]
  },
  {
   "cell_type": "markdown",
   "metadata": {},
   "source": [
    "### Завершение работы\n",
    "---\n",
    "\n",
    "Работу компонентов **scrapy** можно прервать по-отдельности. Для завершения сессии чата используется команда:"
   ]
  },
  {
   "cell_type": "code",
   "execution_count": null,
   "metadata": {},
   "outputs": [],
   "source": [
    "bash scrapy.sh kill-chat"
   ]
  },
  {
   "cell_type": "markdown",
   "metadata": {},
   "source": [
    "Для завершения сессии файл-сервера используется команда:"
   ]
  },
  {
   "cell_type": "code",
   "execution_count": null,
   "metadata": {},
   "outputs": [],
   "source": [
    "bash scrapy.sh kill-server"
   ]
  }
 ],
 "metadata": {
  "kernelspec": {
   "display_name": "Python 2",
   "language": "python",
   "name": "python2"
  },
  "language_info": {
   "codemirror_mode": {
    "name": "ipython",
    "version": 2
   },
   "file_extension": ".py",
   "mimetype": "text/x-python",
   "name": "python",
   "nbconvert_exporter": "python",
   "pygments_lexer": "ipython2",
   "version": "2.7.15"
  }
 },
 "nbformat": 4,
 "nbformat_minor": 2
}
